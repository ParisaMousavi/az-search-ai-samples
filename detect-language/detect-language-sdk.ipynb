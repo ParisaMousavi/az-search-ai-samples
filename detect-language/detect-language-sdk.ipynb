{
 "cells": [
  {
   "cell_type": "code",
   "execution_count": 1,
   "id": "f7e012a4-5509-449e-9319-aa3e875af55d",
   "metadata": {},
   "outputs": [],
   "source": [
    "from dotenv import load_dotenv\n",
    "import os\n",
    "from azure.ai.textanalytics import TextAnalyticsClient\n",
    "from azure.core.credentials import AzureKeyCredential"
   ]
  },
  {
   "cell_type": "code",
   "execution_count": null,
   "id": "20e70eef-86af-4794-83af-b474e331b88b",
   "metadata": {},
   "outputs": [
    {
     "name": "stdin",
     "output_type": "stream",
     "text": [
      "\n",
      "Enter some text (\"quit\" to stop)\n",
      " wie alt bist du?\n"
     ]
    },
    {
     "name": "stdout",
     "output_type": "stream",
     "text": [
      "Language: German\n"
     ]
    },
    {
     "name": "stdin",
     "output_type": "stream",
     "text": [
      "\n",
      "Enter some text (\"quit\" to stop)\n",
      " Knowledge is better.\n"
     ]
    },
    {
     "name": "stdout",
     "output_type": "stream",
     "text": [
      "Language: English\n"
     ]
    },
    {
     "name": "stdin",
     "output_type": "stream",
     "text": [
      "\n",
      "Enter some text (\"quit\" to stop)\n",
      " La connaissance est meilleure.\n"
     ]
    },
    {
     "name": "stdout",
     "output_type": "stream",
     "text": [
      "Language: French\n"
     ]
    }
   ],
   "source": [
    "def main():\n",
    "    global cog_endpoint\n",
    "    global cog_key\n",
    "\n",
    "    try:\n",
    "        # Get Configuration Settings\n",
    "        load_dotenv()\n",
    "        cog_endpoint = os.getenv('COG_SERVICE_ENDPOINT')\n",
    "        cog_key = os.getenv('COG_SERVICE_KEY')\n",
    "\n",
    "        # Get user input (until they enter \"quit\")\n",
    "        userText =''\n",
    "        while userText.lower() != 'quit':\n",
    "            userText = input('\\nEnter some text (\"quit\" to stop)\\n')\n",
    "            if userText.lower() != 'quit':\n",
    "                language = GetLanguage(userText)\n",
    "                print('Language:', language)\n",
    "\n",
    "    except Exception as ex:\n",
    "        print(ex)\n",
    "\n",
    "def GetLanguage(text):\n",
    "\n",
    "    # Create client using endpoint and key\n",
    "    credential = AzureKeyCredential(cog_key)\n",
    "    client = TextAnalyticsClient(endpoint=cog_endpoint, credential=credential)\n",
    "\n",
    "    # Call the service to get the detected language\n",
    "    detectedLanguage = client.detect_language(documents = [text])[0]\n",
    "    return detectedLanguage.primary_language.name\n",
    "\n",
    "\n",
    "if __name__ == \"__main__\":\n",
    "    main()"
   ]
  }
 ],
 "metadata": {
  "kernelspec": {
   "display_name": "Python 3 (ipykernel)",
   "language": "python",
   "name": "python3"
  },
  "language_info": {
   "codemirror_mode": {
    "name": "ipython",
    "version": 3
   },
   "file_extension": ".py",
   "mimetype": "text/x-python",
   "name": "python",
   "nbconvert_exporter": "python",
   "pygments_lexer": "ipython3",
   "version": "3.10.13"
  }
 },
 "nbformat": 4,
 "nbformat_minor": 5
}
